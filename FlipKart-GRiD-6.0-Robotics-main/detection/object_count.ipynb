{
 "cells": [
  {
   "cell_type": "code",
   "execution_count": null,
   "id": "7ce9ec39-4f9f-4398-b455-3b7e9f8cf35a",
   "metadata": {},
   "outputs": [],
   "source": []
  },
  {
   "cell_type": "code",
   "execution_count": 8,
   "id": "5aa7e749-6906-48d7-aeac-6b53f225a837",
   "metadata": {},
   "outputs": [
    {
     "ename": "AttributeError",
     "evalue": "module 'cv2' has no attribute 'write'",
     "output_type": "error",
     "traceback": [
      "\u001b[1;31m---------------------------------------------------------------------------\u001b[0m",
      "\u001b[1;31mAttributeError\u001b[0m                            Traceback (most recent call last)",
      "Cell \u001b[1;32mIn[8], line 14\u001b[0m\n\u001b[0;32m     12\u001b[0m     \u001b[38;5;28;01mreturn\u001b[39;00m \u001b[38;5;28mlen\u001b[39m(contours)\n\u001b[0;32m     13\u001b[0m image\u001b[38;5;241m=\u001b[39m\u001b[38;5;124m\"\u001b[39m\u001b[38;5;124mD:/FlipKart GRiD 6.0 Robotic Track/prototype/project/Test5.jpg\u001b[39m\u001b[38;5;124m\"\u001b[39m\n\u001b[1;32m---> 14\u001b[0m a\u001b[38;5;241m=\u001b[39mcount_products(image)\n",
      "Cell \u001b[1;32mIn[8], line 9\u001b[0m, in \u001b[0;36mcount_products\u001b[1;34m(image_path)\u001b[0m\n\u001b[0;32m      7\u001b[0m _, thresh \u001b[38;5;241m=\u001b[39m cv2\u001b[38;5;241m.\u001b[39mthreshold(gray, \u001b[38;5;241m128\u001b[39m, \u001b[38;5;241m255\u001b[39m, cv2\u001b[38;5;241m.\u001b[39mTHRESH_BINARY_INV)\n\u001b[0;32m      8\u001b[0m contours, _ \u001b[38;5;241m=\u001b[39m cv2\u001b[38;5;241m.\u001b[39mfindContours(thresh, cv2\u001b[38;5;241m.\u001b[39mRETR_EXTERNAL, cv2\u001b[38;5;241m.\u001b[39mCHAIN_APPROX_SIMPLE)\n\u001b[1;32m----> 9\u001b[0m cv2\u001b[38;5;241m.\u001b[39mwrite(\u001b[38;5;124m\"\u001b[39m\u001b[38;5;124mcount.jpg\u001b[39m\u001b[38;5;124m\"\u001b[39m,contours)\n\u001b[0;32m     11\u001b[0m \u001b[38;5;66;03m# Return the count of detected objects\u001b[39;00m\n\u001b[0;32m     12\u001b[0m \u001b[38;5;28;01mreturn\u001b[39;00m \u001b[38;5;28mlen\u001b[39m(contours)\n",
      "\u001b[1;31mAttributeError\u001b[0m: module 'cv2' has no attribute 'write'"
     ]
    }
   ],
   "source": [
    "import cv2\n",
    "\n",
    "def count_products(image_path):\n",
    "    # Basic object detection using contour detection\n",
    "    image = cv2.imread(image_path)\n",
    "    gray = cv2.cvtColor(image, cv2.COLOR_BGR2GRAY)\n",
    "    _, thresh = cv2.threshold(gray, 128, 255, cv2.THRESH_BINARY_INV)\n",
    "    contours, _ = cv2.findContours(thresh, cv2.RETR_EXTERNAL, cv2.CHAIN_APPROX_SIMPLE)\n",
    "    cv2.write(\"count.jpg\",contours)\n",
    "\n",
    "    # Return the count of detected objects\n",
    "    return len(contours)\n",
    "image=\"D:/FlipKart GRiD 6.0 Robotic Track/prototype/project/Test5.jpg\"\n",
    "a=count_products(image)\n",
    "\n",
    "\n"
   ]
  },
  {
   "cell_type": "code",
   "execution_count": 3,
   "id": "7c8c92b8-5358-4092-915a-0311c77ba621",
   "metadata": {},
   "outputs": [
    {
     "data": {
      "text/plain": [
       "104"
      ]
     },
     "execution_count": 3,
     "metadata": {},
     "output_type": "execute_result"
    }
   ],
   "source": [
    "a"
   ]
  },
  {
   "cell_type": "code",
   "execution_count": null,
   "id": "f98ac95c-acf8-4e1e-b343-1a4b54417d5d",
   "metadata": {},
   "outputs": [],
   "source": [
    "a=count_products(image)\n",
    "filepath=\"object.txt\"\n",
    "with open(filepath,'w') as file:\n",
    "    file.write(a)"
   ]
  }
 ],
 "metadata": {
  "kernelspec": {
   "display_name": "Python 3 (ipykernel)",
   "language": "python",
   "name": "python3"
  },
  "language_info": {
   "codemirror_mode": {
    "name": "ipython",
    "version": 3
   },
   "file_extension": ".py",
   "mimetype": "text/x-python",
   "name": "python",
   "nbconvert_exporter": "python",
   "pygments_lexer": "ipython3",
   "version": "3.12.5"
  }
 },
 "nbformat": 4,
 "nbformat_minor": 5
}
